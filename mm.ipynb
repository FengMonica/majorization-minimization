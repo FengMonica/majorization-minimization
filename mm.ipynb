{
 "cells": [
  {
   "cell_type": "markdown",
   "metadata": {},
   "source": [
    "# Majorization-Minimization in TensorFlow"
   ]
  },
  {
   "cell_type": "markdown",
   "metadata": {},
   "source": [
    "In this notebook I will show a simple example which demonstrates the power of a really clever optimization\n",
    "technique, called Majorization-Minimization (MM). With MM, one is able to transform a non-differentiable\n",
    "optimization problem (which often leads to unstable solutions) into a differentiable and therefore stable\n",
    "optimization problem."
   ]
  },
  {
   "cell_type": "markdown",
   "metadata": {},
   "source": [
    "Note: for a theorectical and practical introduction of MM algorithms, see [Majorization-Minimization Algorithms in Signal Processing, Communications, and Machine Learning](http://ieeexplore.ieee.org/document/7547360/) by Y. Sun, P. Babu, and D. P. Palomar"
   ]
  },
  {
   "cell_type": "code",
   "execution_count": 2,
   "metadata": {
    "collapsed": true
   },
   "outputs": [],
   "source": [
    "%matplotlib inline\n",
    "%config IPython.matplotlib.backend = \"retina\"\n",
    "import matplotlib.pyplot as plt\n",
    "from matplotlib import rcParams\n",
    "rcParams[\"figure.dpi\"] = 150\n",
    "rcParams[\"savefig.dpi\"] = 150"
   ]
  },
  {
   "cell_type": "code",
   "execution_count": 3,
   "metadata": {},
   "outputs": [
    {
     "name": "stderr",
     "output_type": "stream",
     "text": [
      "/Users/jvmirca/anaconda3/lib/python3.6/importlib/_bootstrap.py:219: RuntimeWarning: compiletime version 3.5 of module 'tensorflow.python.framework.fast_tensor_util' does not match runtime version 3.6\n",
      "  return f(*args, **kwds)\n"
     ]
    }
   ],
   "source": [
    "import numpy as np\n",
    "np.random.seed(0)\n",
    "import tensorflow as tf"
   ]
  },
  {
   "cell_type": "markdown",
   "metadata": {},
   "source": [
    "## Toy data generation"
   ]
  },
  {
   "cell_type": "markdown",
   "metadata": {},
   "source": [
    "To begin with, let's generate some toy data which is the result of\n",
    "adding an independent, non-identically distributed, Poisson process:"
   ]
  },
  {
   "cell_type": "code",
   "execution_count": 4,
   "metadata": {
    "collapsed": true
   },
   "outputs": [],
   "source": [
    "x = tf.placeholder(dtype=tf.float64)\n",
    "y = tf.placeholder(dtype=tf.float64)\n",
    "x_data = np.linspace(0, 5, 100)"
   ]
  },
  {
   "cell_type": "code",
   "execution_count": 5,
   "metadata": {
    "collapsed": true
   },
   "outputs": [],
   "source": [
    "true_slope = 2\n",
    "true_intercept = 10\n",
    "y_data = np.random.poisson(x_data * true_slope + true_intercept)"
   ]
  },
  {
   "cell_type": "markdown",
   "metadata": {},
   "source": [
    "Let's add some outliers as well:"
   ]
  },
  {
   "cell_type": "code",
   "execution_count": 6,
   "metadata": {
    "collapsed": true
   },
   "outputs": [],
   "source": [
    "y_data[np.arange(len(x_data)) % 10 == 0] = 3 * y_data[np.arange(len(x_data)) % 10 == 0]"
   ]
  },
  {
   "cell_type": "code",
   "execution_count": 7,
   "metadata": {},
   "outputs": [
    {
     "data": {
      "text/plain": [
       "Text(0.5,0,'Bin number')"
      ]
     },
     "execution_count": 7,
     "metadata": {},
     "output_type": "execute_result"
    },
    {
     "data": {
      "image/png": "[encoded data removed]",
      "text/plain": [
       "<matplotlib.figure.Figure at 0x181843fcc0>"
      ]
     },
     "metadata": {},
     "output_type": "display_data"
    }
   ],
   "source": [
    "plt.step(np.arange(len(x_data)), y_data)\n",
    "plt.ylabel(\"Data\")\n",
    "plt.xlabel(\"Bin number\")"
   ]
  },
  {
   "cell_type": "markdown",
   "metadata": {},
   "source": [
    "We want to estimate the slope and the intercept of the line that \"best\" describes\n",
    "the mean of every Poisson random variable."
   ]
  },
  {
   "cell_type": "code",
   "execution_count": 8,
   "metadata": {
    "collapsed": true
   },
   "outputs": [],
   "source": [
    "def mean(theta):\n",
    "    m, b = theta[0], theta[1]\n",
    "    return x * m + b"
   ]
  },
  {
   "cell_type": "markdown",
   "metadata": {},
   "source": [
    "# Direct Minimization of the L1-Norm"
   ]
  },
  {
   "cell_type": "markdown",
   "metadata": {},
   "source": [
    "Let's assume that we don't know that the data is comes from a Poisson process,\n",
    "and also that we are not interested in modeling the outliers, but only the linear\n",
    "trend. Since our data have outliers, we choose to use the L1-Norm as our cost function:"
   ]
  },
  {
   "cell_type": "code",
   "execution_count": 9,
   "metadata": {
    "collapsed": true
   },
   "outputs": [],
   "source": [
    "m = tf.Variable(np.random.normal(), dtype=tf.float64, name='m')\n",
    "b = tf.Variable(np.random.normal(), dtype=tf.float64, name='b')"
   ]
  },
  {
   "cell_type": "code",
   "execution_count": 10,
   "metadata": {
    "collapsed": true
   },
   "outputs": [],
   "source": [
    "# l1-norm\n",
    "negloglike = tf.reduce_sum(tf.abs(mean((m, b)) - y))\n",
    "grad = tf.gradients(negloglike, [m, b])"
   ]
  },
  {
   "cell_type": "code",
   "execution_count": 11,
   "metadata": {},
   "outputs": [
    {
     "name": "stdout",
     "output_type": "stream",
     "text": [
      "INFO:tensorflow:Optimization terminated with:\n",
      "  Message: Desired error not necessarily achieved due to precision loss.\n",
      "  Objective function value: 449.252608\n",
      "  Number of iterations: 5\n",
      "  Number of functions evaluations: 54\n",
      "[2.1050409239847778, 10.832882755026946] [2.020202020202019, 0.0]\n"
     ]
    }
   ],
   "source": [
    "sess = tf.Session()\n",
    "sess.run(fetches=tf.global_variables_initializer())\n",
    "optimizer = tf.contrib.opt.ScipyOptimizerInterface(loss=negloglike, method='BFGS')\n",
    "optimizer.minimize(session=sess, feed_dict={x: x_data, y: y_data})\n",
    "grad_opt = sess.run(grad, feed_dict={x: x_data, y: y_data})\n",
    "l1_opt = [sess.run(m), sess.run(b)]\n",
    "print(l1_opt, grad_opt)"
   ]
  },
  {
   "cell_type": "markdown",
   "metadata": {},
   "source": [
    "**Message: Desired error not necessarily achieved due to precision loss.**"
   ]
  },
  {
   "cell_type": "code",
   "execution_count": 12,
   "metadata": {},
   "outputs": [
    {
     "data": {
      "text/plain": [
       "Text(0.5,0,'Bin number')"
      ]
     },
     "execution_count": 12,
     "metadata": {},
     "output_type": "execute_result"
    },
    {
     "data": {
      "image/png": "[encoded data removed]",
      "text/plain": [
       "<matplotlib.figure.Figure at 0x1820dab6d8>"
      ]
     },
     "metadata": {},
     "output_type": "display_data"
    }
   ],
   "source": [
    "plt.step(np.arange(len(x_data)), y_data)\n",
    "plt.plot(np.arange(len(x_data)), sess.run(mean((m, b)), feed_dict={x:x_data}),\n",
    "         label='best L1-norm line')\n",
    "plt.legend()\n",
    "plt.ylabel(\"Data\")\n",
    "plt.xlabel(\"Bin number\")"
   ]
  },
  {
   "cell_type": "code",
   "execution_count": 13,
   "metadata": {},
   "outputs": [
    {
     "name": "stdout",
     "output_type": "stream",
     "text": [
      "Value of the gradient at final parameter values: [2.020202020202019, 0.0]\n"
     ]
    }
   ],
   "source": [
    "print(\"Value of the gradient at final parameter values: {}\".format(grad_opt))"
   ]
  },
  {
   "cell_type": "markdown",
   "metadata": {},
   "source": [
    "The gradient value at the solution is a good figure of merit to decide whether or not\n",
    "the optimization has reached a local minima. However, the gradient value is not meaningful\n",
    "in this case, since our cost function is non-differentiable in the first place.\n",
    "In big data systems and high dimensional problems we can't afford looking at plots all the\n",
    "time to see whether results are good or not."
   ]
  },
  {
   "cell_type": "markdown",
   "metadata": {},
   "source": [
    "# Majorization-Minimization"
   ]
  },
  {
   "cell_type": "markdown",
   "metadata": {},
   "source": [
    "Majorization-minimization allow us to reframe a non-differentiable optimization problem into a differentiable one\n",
    "by using a \"surrogate\" function to approximate the objective function."
   ]
  },
  {
   "cell_type": "code",
   "execution_count": 14,
   "metadata": {
    "collapsed": true
   },
   "outputs": [],
   "source": [
    "m = tf.Variable(np.abs(np.random.normal()), dtype=tf.float64, name='m')\n",
    "b = tf.Variable(np.abs(np.random.normal()), dtype=tf.float64, name='b')\n",
    "m_n, b_n = np.abs(np.random.normal()), np.abs(np.random.normal()) # initial guess"
   ]
  },
  {
   "cell_type": "markdown",
   "metadata": {},
   "source": [
    "A possible surrogate function for the L1-norm is given as\n",
    "\\begin{align}\n",
    "    g(\\mathbf{r} | \\mathbf{r}_t) = \\dfrac{1}{2}\\dfrac{||\\mathbf{r}||^{2}_2}{||\\mathbf{r}_n||_1} + \\dfrac{1}{2}||\\mathbf{r}_n||_1\n",
    "\\end{align}\n",
    "which majorizes $||\\mathbf{r}||_{1}$ at the point $\\mathbf{r}_n$. See **Example 6** of [Majorization-Minimization Algorithms in Signal Processing, Communications, and Machine Learning](http://ieeexplore.ieee.org/document/7547360/) by Y. Sun, P. Babu, and D. P. Palomar."
   ]
  },
  {
   "cell_type": "code",
   "execution_count": 15,
   "metadata": {
    "collapsed": true
   },
   "outputs": [],
   "source": [
    "r = y - mean((m, b)) # residual vector\n",
    "abs_r_n = tf.abs(y - mean((m_n, b_n))) # abs value of the residual vector at the previous iteration\n",
    "negloglike_surrogate = .5 * tf.reduce_sum(r * r / abs_r_n + abs_r_n) # surrogate function\n",
    "grad = tf.gradients(negloglike_surrogate, [m, b]) # gradient of the surrogate function"
   ]
  },
  {
   "cell_type": "code",
   "execution_count": 16,
   "metadata": {},
   "outputs": [
    {
     "name": "stdout",
     "output_type": "stream",
     "text": [
      "INFO:tensorflow:Optimization terminated with:\n",
      "  Message: Optimization terminated successfully.\n",
      "  Objective function value: 734.326830\n",
      "  Number of iterations: 6\n",
      "  Number of functions evaluations: 7\n",
      "Solution: [1.4496763621233597, 10.485754001760487]\n",
      "Previous solution: [2.16323594928069, 1.336527949436392]\n",
      "Gradient at solution: [[2.2322854675849158e-10, 4.0236924903069848e-11]]\n",
      "INFO:tensorflow:Optimization terminated with:\n",
      "  Message: Optimization terminated successfully.\n",
      "  Objective function value: 498.319702\n",
      "  Number of iterations: 2\n",
      "  Number of functions evaluations: 5\n",
      "Solution: [1.4990495336473753, 10.570419248794593]\n",
      "Previous solution: [1.4496763621233597, 10.485754001760487]\n",
      "Gradient at solution: [[8.6153306710912148e-14, 1.7763568394002505e-15]]\n",
      "INFO:tensorflow:Optimization terminated with:\n",
      "  Message: Optimization terminated successfully.\n",
      "  Objective function value: 484.897254\n",
      "  Number of iterations: 2\n",
      "  Number of functions evaluations: 5\n",
      "Solution: [1.6671918978343137, 10.626856860059574]\n",
      "Previous solution: [1.4990495336473753, 10.570419248794593]\n",
      "Gradient at solution: [[1.1759482276829658e-12, -3.7214675785435247e-12]]\n",
      "INFO:tensorflow:Optimization terminated with:\n",
      "  Message: Optimization terminated successfully.\n",
      "  Objective function value: 469.530050\n",
      "  Number of iterations: 2\n",
      "  Number of functions evaluations: 5\n",
      "Solution: [1.8312888850551365, 10.691934629932456]\n",
      "Previous solution: [1.6671918978343137, 10.626856860059574]\n",
      "Gradient at solution: [[-1.1368683772161603e-13, 1.2700951401711791e-13]]\n",
      "INFO:tensorflow:Optimization terminated with:\n",
      "  Message: Optimization terminated successfully.\n",
      "  Objective function value: 457.606473\n",
      "  Number of iterations: 2\n",
      "  Number of functions evaluations: 5\n",
      "Solution: [1.8876297148592471, 10.86312811769006]\n",
      "Previous solution: [1.8312888850551365, 10.691934629932456]\n",
      "Gradient at solution: [[1.5276668818842154e-13, 6.6613381477509392e-14]]\n",
      "INFO:tensorflow:Optimization terminated with:\n",
      "  Message: Optimization terminated successfully.\n",
      "  Objective function value: 453.130012\n",
      "  Number of iterations: 2\n",
      "  Number of functions evaluations: 5\n",
      "Solution: [1.9013590751208442, 10.864915782095013]\n",
      "Previous solution: [1.8876297148592471, 10.86312811769006]\n",
      "Gradient at solution: [[4.4408920985006262e-15, 1.2856382625159313e-13]]\n",
      "INFO:tensorflow:Optimization terminated with:\n",
      "  Message: Optimization terminated successfully.\n",
      "  Objective function value: 451.957296\n",
      "  Number of iterations: 2\n",
      "  Number of functions evaluations: 5\n",
      "Solution: [1.9377806534119828, 10.857428415441738]\n",
      "Previous solution: [1.9013590751208442, 10.864915782095013]\n",
      "Gradient at solution: [[-2.7355895326763857e-13, -1.389999226830696e-13]]\n",
      "INFO:tensorflow:Optimization terminated with:\n",
      "  Message: Optimization terminated successfully.\n",
      "  Objective function value: 451.137567\n",
      "  Number of iterations: 2\n",
      "  Number of functions evaluations: 5\n",
      "Solution: [1.9365138465488718, 10.875750232024895]\n",
      "Previous solution: [1.9377806534119828, 10.857428415441738]\n",
      "Gradient at solution: [[-1.1759482276829658e-12, -6.8389738316909643e-13]]\n",
      "INFO:tensorflow:Optimization terminated with:\n",
      "  Message: Optimization terminated successfully.\n",
      "  Objective function value: 450.821659\n",
      "  Number of iterations: 2\n",
      "  Number of functions evaluations: 5\n",
      "Solution: [1.9563832800773513, 10.858849543378488]\n",
      "Previous solution: [1.9365138465488718, 10.875750232024895]\n",
      "Gradient at solution: [[3.2862601528904634e-13, 2.2559731860383181e-13]]\n",
      "INFO:tensorflow:Optimization terminated with:\n",
      "  Message: Optimization terminated successfully.\n",
      "  Objective function value: 450.245299\n",
      "  Number of iterations: 2\n",
      "  Number of functions evaluations: 5\n",
      "Solution: [1.9797591276137347, 10.84992912479451]\n",
      "Previous solution: [1.9563832800773513, 10.858849543378488]\n",
      "Gradient at solution: [[2.5757174171303632e-13, 2.1671553440683056e-13]]\n",
      "INFO:tensorflow:Optimization terminated with:\n",
      "  Message: Optimization terminated successfully.\n",
      "  Objective function value: 449.814703\n",
      "  Number of iterations: 2\n",
      "  Number of functions evaluations: 5\n",
      "Solution: [1.9942019057908564, 10.85391260279468]\n",
      "Previous solution: [1.9797591276137347, 10.84992912479451]\n",
      "Gradient at solution: [[2.7622348852673895e-13, 4.4630965589931293e-13]]\n",
      "INFO:tensorflow:Optimization terminated with:\n",
      "  Message: Optimization terminated successfully.\n",
      "  Objective function value: 449.596724\n",
      "  Number of iterations: 2\n",
      "  Number of functions evaluations: 5\n",
      "Solution: [1.9951841974758429, 10.863077741275276]\n",
      "Previous solution: [1.9942019057908564, 10.85391260279468]\n",
      "Gradient at solution: [[-1.7408297026122455e-13, -2.8776980798284058e-13]]\n",
      "INFO:tensorflow:Optimization terminated with:\n",
      "  Message: Optimization terminated successfully.\n",
      "  Objective function value: 449.550010\n",
      "  Number of iterations: 2\n",
      "  Number of functions evaluations: 5\n",
      "Solution: [1.9999276666195624, 10.856404281113537]\n",
      "Previous solution: [1.9951841974758429, 10.863077741275276]\n",
      "Gradient at solution: [[4.4870773763250327e-12, 5.1070259132757201e-13]]\n",
      "INFO:tensorflow:Optimization terminated with:\n",
      "  Message: Optimization terminated successfully.\n",
      "  Objective function value: 449.512057\n",
      "  Number of iterations: 2\n",
      "  Number of functions evaluations: 5\n",
      "Solution: [2.0073082918852077, 10.845620946027948]\n",
      "Previous solution: [1.9999276666195624, 10.856404281113537]\n",
      "Gradient at solution: [[-2.5579538487363607e-13, -2.0019541580040823e-12]]\n",
      "INFO:tensorflow:Optimization terminated with:\n",
      "  Message: Optimization terminated successfully.\n",
      "  Objective function value: 449.473694\n",
      "  Number of iterations: 3\n",
      "  Number of functions evaluations: 5\n",
      "Solution: [2.0167765090766285, 10.828229844857454]\n",
      "Previous solution: [2.0073082918852077, 10.845620946027948]\n",
      "Gradient at solution: [[1.808331262509455e-12, 8.1801232454381534e-13]]\n",
      "INFO:tensorflow:Optimization terminated with:\n",
      "  Message: Optimization terminated successfully.\n",
      "  Objective function value: 449.430980\n",
      "  Number of iterations: 3\n",
      "  Number of functions evaluations: 5\n",
      "Solution: [2.0268943932192807, 10.81117726932769]\n",
      "Previous solution: [2.0167765090766285, 10.828229844857454]\n",
      "Gradient at solution: [[-1.0338396805309458e-12, -4.7251091928046662e-13]]\n",
      "INFO:tensorflow:Optimization terminated with:\n",
      "  Message: Optimization terminated successfully.\n",
      "  Objective function value: 449.383032\n",
      "  Number of iterations: 2\n",
      "  Number of functions evaluations: 5\n",
      "Solution: [2.0371619453822727, 10.7958722871897]\n",
      "Previous solution: [2.0268943932192807, 10.81117726932769]\n",
      "Gradient at solution: [[-4.2810199829546036e-13, 3.390177027995378e-12]]\n",
      "INFO:tensorflow:Optimization terminated with:\n",
      "  Message: Optimization terminated successfully.\n",
      "  Objective function value: 449.331424\n",
      "  Number of iterations: 2\n",
      "  Number of functions evaluations: 5\n",
      "Solution: [2.047127451478164, 10.783079199451496]\n",
      "Previous solution: [2.0371619453822727, 10.7958722871897]\n",
      "Gradient at solution: [[-6.1639582327188691e-13, -5.6576965334897977e-13]]\n",
      "INFO:tensorflow:Optimization terminated with:\n",
      "  Message: Optimization terminated successfully.\n",
      "  Objective function value: 449.278922\n",
      "  Number of iterations: 2\n",
      "  Number of functions evaluations: 5\n",
      "Solution: [2.0562542564766484, 10.773161806641019]\n",
      "Previous solution: [2.047127451478164, 10.783079199451496]\n",
      "Gradient at solution: [[-5.666578317686799e-13, 1.1821654766208667e-12]]\n",
      "INFO:tensorflow:Optimization terminated with:\n",
      "  Message: Optimization terminated successfully.\n",
      "  Objective function value: 449.230216\n",
      "  Number of iterations: 2\n",
      "  Number of functions evaluations: 5\n",
      "Solution: [2.063663005140765, 10.766644862881687]\n",
      "Previous solution: [2.0562542564766484, 10.773161806641019]\n",
      "Gradient at solution: [[-1.723066134218243e-13, -1.7674750552032492e-13]]\n"
     ]
    }
   ],
   "source": [
    "sess = tf.Session()\n",
    "sess.run(fetches=tf.global_variables_initializer())\n",
    "optimizer = tf.contrib.opt.ScipyOptimizerInterface(loss=negloglike_surrogate, var_list=[m, b],\n",
    "                                                   method='BFGS')\n",
    "i = 0\n",
    "while i < 20:\n",
    "    optimizer.minimize(session=sess, feed_dict={x: x_data, y: y_data})\n",
    "    m_opt = sess.run(m)\n",
    "    b_opt = sess.run(b)\n",
    "    m_n_opt = m_n\n",
    "    b_n_opt = b_n\n",
    "    grad_opt = sess.run(grad, feed_dict={x: x_data, y: y_data})\n",
    "    print(\"Solution: [{}, {}]\\nPrevious solution: [{}, {}]\\nGradient at solution: [{}]\"\n",
    "          .format(m_opt, b_opt, m_n_opt, b_n_opt, grad_opt))\n",
    "    m_n, b_n = m_opt, b_opt\n",
    "    # update surrogate function\n",
    "    r = y - mean((m, b))\n",
    "    abs_r_n = tf.abs(y - mean((m_n, b_n)))\n",
    "    negloglike_surrogate = .5 * tf.reduce_sum(r * r / abs_r_n + abs_r_n)\n",
    "    grad = tf.gradients(negloglike_surrogate, [m, b])\n",
    "    optimizer = tf.contrib.opt.ScipyOptimizerInterface(loss=negloglike_surrogate, var_list=[m, b], method='BFGS')\n",
    "    i+=1"
   ]
  },
  {
   "cell_type": "code",
   "execution_count": 17,
   "metadata": {},
   "outputs": [
    {
     "data": {
      "text/plain": [
       "449.25260792724191"
      ]
     },
     "execution_count": 17,
     "metadata": {},
     "output_type": "execute_result"
    }
   ],
   "source": [
    "sess.run(tf.reduce_sum(tf.abs(mean(l1_opt) - y)), feed_dict={x:x_data, y:y_data})"
   ]
  },
  {
   "cell_type": "code",
   "execution_count": 18,
   "metadata": {},
   "outputs": [
    {
     "data": {
      "text/plain": [
       "449.20754720343052"
      ]
     },
     "execution_count": 18,
     "metadata": {},
     "output_type": "execute_result"
    }
   ],
   "source": [
    "sess.run(tf.reduce_sum(tf.abs(mean((m_opt, b_opt)) - y)), feed_dict={x:x_data, y:y_data})"
   ]
  },
  {
   "cell_type": "markdown",
   "metadata": {},
   "source": [
    "Clear advantages:\n",
    "1. Gradient is  close to zero on every iteration! => stable optimization!\n",
    "2. Smaller cost function at reported \"best\" parameter values!"
   ]
  },
  {
   "cell_type": "markdown",
   "metadata": {},
   "source": [
    "Remarks: Majorization-minimization algorithms enable us to approximate non-differentiable objective functions\n",
    "    by differentiable ones which are easier to optimize. This fact gives rise to an iterative procedure to arrive\n",
    "    at the local minima. Additionally, meaningful gradient information is available at every iteration."
   ]
  },
  {
   "cell_type": "code",
   "execution_count": 20,
   "metadata": {},
   "outputs": [
    {
     "data": {
      "text/plain": [
       "Text(0.5,0,'Bin number')"
      ]
     },
     "execution_count": 20,
     "metadata": {},
     "output_type": "execute_result"
    },
    {
     "data": {
      "image/png": "[encoded data removed]",
      "text/plain": [
       "<matplotlib.figure.Figure at 0x1a25fd2860>"
      ]
     },
     "metadata": {},
     "output_type": "display_data"
    }
   ],
   "source": [
    "plt.step(np.arange(len(x_data)), y_data)\n",
    "plt.plot(np.arange(len(x_data)), sess.run(mean(l1_opt), feed_dict={x:x_data}),\n",
    "         label='direct L1-norm minimization')\n",
    "plt.plot(np.arange(len(x_data)), sess.run(mean((m_opt, b_opt)), feed_dict={x:x_data}),\n",
    "         label='majorization-minimization')\n",
    "plt.plot(np.arange(len(x_data)), sess.run(mean((2., 10.)), feed_dict={x:x_data}),\n",
    "         label='true line')\n",
    "plt.legend()\n",
    "plt.ylabel(\"Data\")\n",
    "plt.xlabel(\"Bin number\")"
   ]
  },
  {
   "cell_type": "markdown",
   "metadata": {},
   "source": [
    "The almost constant difference between the true line and the estimated ones is likely due to the fact that\n",
    "we did not model the outliers properly (see Section 3 of [Hogg et al, Data Analysis Recipes](https://arxiv.org/pdf/1008.4686.pdf))"
   ]
  },
  {
   "cell_type": "code",
   "execution_count": null,
   "metadata": {
    "collapsed": true
   },
   "outputs": [],
   "source": []
  }
 ],
 "metadata": {
  "kernelspec": {
   "display_name": "Python 3",
   "language": "python",
   "name": "python3"
  },
  "language_info": {
   "codemirror_mode": {
    "name": "ipython",
    "version": 3
   },
   "file_extension": ".py",
   "mimetype": "text/x-python",
   "name": "python",
   "nbconvert_exporter": "python",
   "pygments_lexer": "ipython3",
   "version": "3.6.3"
  }
 },
 "nbformat": 4,
 "nbformat_minor": 2
}
